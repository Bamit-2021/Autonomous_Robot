{
 "cells": [
  {
   "cell_type": "code",
   "execution_count": 2,
   "metadata": {},
   "outputs": [
    {
     "ename": "ModuleNotFoundError",
     "evalue": "No module named 'matplotlib'",
     "output_type": "error",
     "traceback": [
      "\u001b[1;31m---------------------------------------------------------------------------\u001b[0m",
      "\u001b[1;31mModuleNotFoundError\u001b[0m                       Traceback (most recent call last)",
      "Cell \u001b[1;32mIn[2], line 1\u001b[0m\n\u001b[1;32m----> 1\u001b[0m \u001b[38;5;28;01mimport\u001b[39;00m \u001b[38;5;21;01mmatplotlib\u001b[39;00m\u001b[38;5;21;01m.\u001b[39;00m\u001b[38;5;21;01mpyplot\u001b[39;00m \u001b[38;5;28;01mas\u001b[39;00m \u001b[38;5;21;01mplt\u001b[39;00m\n\u001b[0;32m      2\u001b[0m \u001b[38;5;28;01mimport\u001b[39;00m \u001b[38;5;21;01mtime\u001b[39;00m\n\u001b[0;32m      4\u001b[0m \u001b[38;5;66;03m# Warehouse dimensions\u001b[39;00m\n",
      "\u001b[1;31mModuleNotFoundError\u001b[0m: No module named 'matplotlib'"
     ]
    }
   ],
   "source": [
    "import matplotlib.pyplot as plt\n",
    "import time\n",
    "\n",
    "# Warehouse dimensions\n",
    "WAREHOUSE_WIDTH = 10  # in meters\n",
    "WAREHOUSE_HEIGHT = 10  # in meters\n",
    "\n",
    "# Robot properties\n",
    "SPEED = 0.1  # meters per second\n",
    "PAUSE_TIME = 2  # seconds\n",
    "STEP_DURATION = 0.1  # seconds\n"
   ]
  },
  {
   "cell_type": "code",
   "execution_count": 3,
   "metadata": {},
   "outputs": [],
   "source": [
    "class Robot:\n",
    "    def __init__(self, start_x, start_y, dest_x, dest_y):\n",
    "        self.x = start_x\n",
    "        self.y = start_y\n",
    "        self.dest_x = dest_x\n",
    "        self.dest_y = dest_y\n",
    "        self.path = [(self.x, self.y)]\n",
    "    \n",
    "    def move(self):\n",
    "        while (self.x, self.y) != (self.dest_x, self.dest_y):\n",
    "            # Calculate direction vector to the destination\n",
    "            dx = self.dest_x - self.x\n",
    "            dy = self.dest_y - self.y\n",
    "            \n",
    "            # Normalize the direction vector\n",
    "            distance = (dx**2 + dy**2)**0.5\n",
    "            if distance == 0:\n",
    "                break  # Reached destination\n",
    "            \n",
    "            # Calculate step size\n",
    "            step_x = (dx / distance) * SPEED * STEP_DURATION\n",
    "            step_y = (dy / distance) * SPEED * STEP_DURATION\n",
    "            \n",
    "            # Update position\n",
    "            self.x += step_x\n",
    "            self.y += step_y\n",
    "            \n",
    "            # Add to path for visualization\n",
    "            self.path.append((self.x, self.y))\n",
    "            \n",
    "            # Display movement\n",
    "            self.plot_movement()\n",
    "            \n",
    "            # Simulate movement and stop\n",
    "            time.sleep(STEP_DURATION)\n",
    "            time.sleep(PAUSE_TIME)\n",
    "\n",
    "    def plot_movement(self):\n",
    "        plt.clf()\n",
    "        plt.plot(*zip(*self.path), marker='o', color='b', markersize=4, label=\"Path\")\n",
    "        plt.plot(self.dest_x, self.dest_y, 'go', label=\"Destination\")\n",
    "        plt.xlim(0, WAREHOUSE_WIDTH)\n",
    "        plt.ylim(0, WAREHOUSE_HEIGHT)\n",
    "        plt.legend()\n",
    "        plt.pause(0.1)\n"
   ]
  },
  {
   "cell_type": "code",
   "execution_count": 4,
   "metadata": {},
   "outputs": [],
   "source": [
    "def run_simulation():\n",
    "    # Initialize robot at start position (0, 0) with destination (7, 9)\n",
    "    robot = Robot(start_x=0, start_y=0, dest_x=7, dest_y=9)\n",
    "    \n",
    "    # Start the movement\n",
    "    plt.ion()  # Enable interactive plotting\n",
    "    robot.move()\n",
    "    plt.ioff()  # Disable interactive plotting\n",
    "    plt.show()  # Show the final path\n"
   ]
  },
  {
   "cell_type": "code",
   "execution_count": 5,
   "metadata": {},
   "outputs": [
    {
     "ename": "NameError",
     "evalue": "name 'plt' is not defined",
     "output_type": "error",
     "traceback": [
      "\u001b[1;31m---------------------------------------------------------------------------\u001b[0m",
      "\u001b[1;31mNameError\u001b[0m                                 Traceback (most recent call last)",
      "Cell \u001b[1;32mIn[5], line 2\u001b[0m\n\u001b[0;32m      1\u001b[0m \u001b[38;5;28;01mif\u001b[39;00m \u001b[38;5;18m__name__\u001b[39m \u001b[38;5;241m==\u001b[39m \u001b[38;5;124m\"\u001b[39m\u001b[38;5;124m__main__\u001b[39m\u001b[38;5;124m\"\u001b[39m:\n\u001b[1;32m----> 2\u001b[0m     \u001b[43mrun_simulation\u001b[49m\u001b[43m(\u001b[49m\u001b[43m)\u001b[49m\n",
      "Cell \u001b[1;32mIn[4], line 6\u001b[0m, in \u001b[0;36mrun_simulation\u001b[1;34m()\u001b[0m\n\u001b[0;32m      3\u001b[0m robot \u001b[38;5;241m=\u001b[39m Robot(start_x\u001b[38;5;241m=\u001b[39m\u001b[38;5;241m0\u001b[39m, start_y\u001b[38;5;241m=\u001b[39m\u001b[38;5;241m0\u001b[39m, dest_x\u001b[38;5;241m=\u001b[39m\u001b[38;5;241m7\u001b[39m, dest_y\u001b[38;5;241m=\u001b[39m\u001b[38;5;241m9\u001b[39m)\n\u001b[0;32m      5\u001b[0m \u001b[38;5;66;03m# Start the movement\u001b[39;00m\n\u001b[1;32m----> 6\u001b[0m \u001b[43mplt\u001b[49m\u001b[38;5;241m.\u001b[39mion()  \u001b[38;5;66;03m# Enable interactive plotting\u001b[39;00m\n\u001b[0;32m      7\u001b[0m robot\u001b[38;5;241m.\u001b[39mmove()\n\u001b[0;32m      8\u001b[0m plt\u001b[38;5;241m.\u001b[39mioff()  \u001b[38;5;66;03m# Disable interactive plotting\u001b[39;00m\n",
      "\u001b[1;31mNameError\u001b[0m: name 'plt' is not defined"
     ]
    }
   ],
   "source": [
    "if __name__ == \"__main__\":\n",
    "    run_simulation()\n"
   ]
  },
  {
   "cell_type": "code",
   "execution_count": null,
   "metadata": {},
   "outputs": [],
   "source": []
  }
 ],
 "metadata": {
  "kernelspec": {
   "display_name": "Python 3",
   "language": "python",
   "name": "python3"
  },
  "language_info": {
   "codemirror_mode": {
    "name": "ipython",
    "version": 3
   },
   "file_extension": ".py",
   "mimetype": "text/x-python",
   "name": "python",
   "nbconvert_exporter": "python",
   "pygments_lexer": "ipython3",
   "version": "3.12.1"
  }
 },
 "nbformat": 4,
 "nbformat_minor": 2
}
